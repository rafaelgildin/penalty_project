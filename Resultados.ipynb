{
 "cells": [
  {
   "cell_type": "markdown",
   "metadata": {},
   "source": [
    "* Resumo:\n",
    "  - Desenvolvimento de um modelo yolo, de visão computacional, para detecção do instante anterior à batida de pênalti.\n",
    "\n",
    "* Descrição do problema\n",
    "  - A partir da exploração de modelos de visão computacional para detecção de momentos no futebol, não há uma grande quantidade disponível. Quando se trata apenas do pênalti, tal valor é reduzido ainda mais, portanto, o atual trabalho visa desenvolver um modelo de visão computacional para atuar em um dos momentos mais cruciais de uma partida de futebol. Tal modelo terá como tarefa a classificação do instante imaediatamente anterior à batida de penalti, dado uma imagem como entrada.\n",
    "  \n",
    "* Descrição da metodologia aplicada\n",
    "  - Coletar os dados através de vídeos;\n",
    "  - Importar os vídeos para o ambiente de desenvolvimento;\n",
    "  - Transformar os vídeos em imagens;\n",
    "  - Segmentar as imagens em:\n",
    "    - datasets de treino, validação e teste;\n",
    "    - classificar manualmente em yes (momento antes do chute) ou 0 (caso contrário);\n",
    "  - Treinar o modelo Yolo versão 8;\n",
    "  - Analisar os resultados de treino e validação;\n",
    "  - Testar o modelo com imagens e vídeos;\n",
    "\n",
    "* Dados\n",
    "  - Os dados foram gerados a partir de meus vídeos realizando cobranças de pênaltis.\n",
    "\n",
    "* Resultados obtidos:\n",
    "  - De acordo com a matriz de confusão de treinamento, é possível notar que o modelo acertou a maioria das classes, errando apenas 12% para os falsos negativos.\n",
    "  \n",
    "  <img src=\"data/runs/classify/train/confusion_matrix_normalized.png\" alt=\"Matriz de confusão do treinamento\" style=\"height: 500px; width:700px;\"/>\n",
    "  \n",
    "  - Os resultados do treino mostram uma acurácia final de 99,16% [Resultados](data/runs/classify/train/results.csv)\n",
    "  - As curvas de treinamento e validação abaixo mostram que:\n",
    "    - O custo do treino e da validação foram reduzidos exponencialmente com uma tendência final a próximo de 0.\n",
    "    - A acurária no treino mostra quase que 100% em todos os epochs.\n",
    "    - A acurácia na validação obtem 100% em todos os epochs.\n",
    "  \n",
    "  <img src=\"data/runs/classify/train/results.png\" alt=\"Resultados do treinamento em results.csv plotados em 2d\" style=\"height: 500px; width:700px;\"/>\n",
    "\n",
    "* Conclusão\n",
    "  - O modelo é capaz de classificar os momentos verdadeiros com exatidão. Além disso, o modelo foi utilizado em imagens, assim como, em vídeos, logo, tornando-se elegível à detcçao em tempo real. \n",
    "\n",
    "* Referências\n",
    "  - https://github.com/FSaeta/Explorando-a-captacao-de-movimento-dos-jogadores-de-futebol-em-cobrancas-de-penaltis\n",
    "  - https://blog.roboflow.com/track-football-players/"
   ]
  }
 ],
 "metadata": {
  "language_info": {
   "name": "python"
  }
 },
 "nbformat": 4,
 "nbformat_minor": 2
}
